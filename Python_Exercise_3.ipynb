{
  "nbformat": 4,
  "nbformat_minor": 0,
  "metadata": {
    "colab": {
      "provenance": [],
      "authorship_tag": "ABX9TyONqe78dtpqjLy+vBSB2wXk",
      "include_colab_link": true
    },
    "kernelspec": {
      "name": "python3",
      "display_name": "Python 3"
    },
    "language_info": {
      "name": "python"
    }
  },
  "cells": [
    {
      "cell_type": "markdown",
      "metadata": {
        "id": "view-in-github",
        "colab_type": "text"
      },
      "source": [
        "<a href=\"https://colab.research.google.com/github/kratark/kratark/blob/main/Python_Exercise_3.ipynb\" target=\"_parent\"><img src=\"https://colab.research.google.com/assets/colab-badge.svg\" alt=\"Open In Colab\"/></a>"
      ]
    },
    {
      "cell_type": "markdown",
      "source": [
        "3.\tเขียนโปรแกรมเพื่อแสดงรูปแบบตามที่กำหนด โดยรับ input เป็นขนาดของ pattern เป็นจำนวนคี่ และแสดงผลเป็น pattern ที่สัมพันธ์กับขนาดที่ได้รับ เช่น\n",
        "Input\tOutput\n",
        "3\t*-*\n",
        "-*-\n",
        "*-*\n",
        "5\t*---*\n",
        "-*-*-\n",
        "--*--\n",
        "-*-*-\n",
        "*---*\n",
        "7\t*-----*\n",
        "-*---*-\n",
        "--*-*--\n",
        "---*---\n",
        "--*-*--\n",
        "-*---*-\n",
        "*-----*\n"
      ],
      "metadata": {
        "id": "tcq6OVlphTZz"
      }
    },
    {
      "cell_type": "code",
      "source": [
        "x = int(input('input odd number : '))\n",
        "while x%2 == 0 :\n",
        "  x = int(input('please input odd number : '))\n",
        "pattern = []\n",
        "for i in range(x):\n",
        "  a = [\"-\"]*x\n",
        "  a[i] = '*'\n",
        "  a[x-i-1] = '*'\n",
        "  pattern.append(''.join(a))\n",
        "for j in pattern:\n",
        "  print(j)"
      ],
      "metadata": {
        "colab": {
          "base_uri": "https://localhost:8080/"
        },
        "id": "nnWFBYB-plbs",
        "outputId": "5b28a59c-9c45-498a-ef2d-06fd091dd82a"
      },
      "execution_count": 1,
      "outputs": [
        {
          "output_type": "stream",
          "name": "stdout",
          "text": [
            "input odd number : 5\n",
            "*---*\n",
            "-*-*-\n",
            "--*--\n",
            "-*-*-\n",
            "*---*\n"
          ]
        }
      ]
    },
    {
      "cell_type": "markdown",
      "source": [],
      "metadata": {
        "id": "b7yJ29Nf23bL"
      }
    }
  ]
}