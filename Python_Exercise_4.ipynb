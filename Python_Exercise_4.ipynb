{
  "nbformat": 4,
  "nbformat_minor": 0,
  "metadata": {
    "colab": {
      "provenance": [],
      "authorship_tag": "ABX9TyPyUkTPZlUf7QiTpgqzFTY8",
      "include_colab_link": true
    },
    "kernelspec": {
      "name": "python3",
      "display_name": "Python 3"
    },
    "language_info": {
      "name": "python"
    }
  },
  "cells": [
    {
      "cell_type": "markdown",
      "metadata": {
        "id": "view-in-github",
        "colab_type": "text"
      },
      "source": [
        "<a href=\"https://colab.research.google.com/github/kratark/kratark/blob/main/Python_Exercise_4.ipynb\" target=\"_parent\"><img src=\"https://colab.research.google.com/assets/colab-badge.svg\" alt=\"Open In Colab\"/></a>"
      ]
    },
    {
      "cell_type": "code",
      "execution_count": null,
      "metadata": {
        "id": "Ali97d9HGoI1"
      },
      "outputs": [],
      "source": [
        "4.\tเขียนโปรแกรมเพื่อแสดงผลตัวอักษร A และ B โดยรับ input เป็นจำนวนของตัวอักษร A และ B จากนั้นแสดงผลตัวอักษรทั้งสองตามจำนวนที่ได้รับ โดย ห้ามไม่ให้มีการแสดงผลตัวอักษรเดียวกันซ้ำติดกันเกิน 2 ครั้ง และจะต้องใช้ตัวอักษรทั้งหมดให้ครบตามจำนวน เช่น\n",
        "\n",
        "input number of A: 5\n",
        "\n",
        "input number of B: 3\n",
        "\n",
        "output: AABABABA\n",
        "\n",
        "(ตัวอย่าง output ที่ผิด คือ AAABABAB)\n",
        "\n",
        "ถ้าไม่สามารถแสดงได้ตามเงื่อนไข ให้แสดงข้อความ error\n",
        "\n"
      ]
    },
    {
      "cell_type": "code",
      "source": [
        "def generate_string(num_a, num_b):\n",
        "    result = \"\"\n",
        "    a, b = num_a, num_b\n",
        "    if num_a - num_b > 2 or num_b - num_a > 2:\n",
        "        print(\"Error: Cannot generate string with the given conditions.\")\n",
        "        return\n",
        "\n",
        "    while num_a > 0 or num_b > 0:\n",
        "        if num_a > num_b:\n",
        "            result += \"AA\"\n",
        "            num_a -= 2\n",
        "            if num_a == 0:\n",
        "                break\n",
        "        elif num_b > num_a:\n",
        "            result += \"BB\"\n",
        "            num_b -= 2\n",
        "            if num_b == 0:\n",
        "                break\n",
        "        else:\n",
        "            if a > b :\n",
        "              result += \"BA\"\n",
        "            else :\n",
        "              result += \"AB\"\n",
        "            num_a -= 1\n",
        "            num_b -= 1\n",
        "\n",
        "    print(\"Output:\", result)\n",
        "\n",
        "# ตัวอย่างการเรียกใช้งาน\n",
        "num_a = int(input(\"Input number of A: \"))\n",
        "num_b = int(input(\"Input number of B: \"))\n",
        "generate_string(num_a, num_b)"
      ],
      "metadata": {
        "colab": {
          "base_uri": "https://localhost:8080/"
        },
        "id": "7owmOwMCnkQA",
        "outputId": "00852e6f-8f7f-4768-9265-647af697b728"
      },
      "execution_count": 13,
      "outputs": [
        {
          "output_type": "stream",
          "name": "stdout",
          "text": [
            "Input number of A: 5\n",
            "Input number of B: 3\n",
            "Output: AABABABA\n"
          ]
        }
      ]
    }
  ]
}