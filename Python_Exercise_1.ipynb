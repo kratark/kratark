{
  "nbformat": 4,
  "nbformat_minor": 0,
  "metadata": {
    "colab": {
      "provenance": [],
      "authorship_tag": "ABX9TyPgBkzVmoRSbf1CfL1nBIpe",
      "include_colab_link": true
    },
    "kernelspec": {
      "name": "python3",
      "display_name": "Python 3"
    },
    "language_info": {
      "name": "python"
    }
  },
  "cells": [
    {
      "cell_type": "markdown",
      "metadata": {
        "id": "view-in-github",
        "colab_type": "text"
      },
      "source": [
        "<a href=\"https://colab.research.google.com/github/kratark/kratark/blob/main/Python_Exercise_1.ipynb\" target=\"_parent\"><img src=\"https://colab.research.google.com/assets/colab-badge.svg\" alt=\"Open In Colab\"/></a>"
      ]
    },
    {
      "cell_type": "markdown",
      "source": [
        "1.\tเขียนโปรแกรมเพื่อรับ input เป็น string และแสดงผลเป็น string นั้นในลำดับที่กลับกัน เช่น\n",
        "\n",
        "input: HELLO\n",
        "\n",
        "output: OLLEH\n"
      ],
      "metadata": {
        "id": "J-sZnxzTr9iM"
      }
    },
    {
      "cell_type": "code",
      "execution_count": 15,
      "metadata": {
        "id": "UI7zj6DUrt2q"
      },
      "outputs": [],
      "source": [
        "def reverse(x):\n",
        "  return x[::-1]"
      ]
    },
    {
      "cell_type": "code",
      "source": [
        "reverse_text = input('input string for reverse : ')\n",
        "reverse(reverse_text)"
      ],
      "metadata": {
        "colab": {
          "base_uri": "https://localhost:8080/",
          "height": 53
        },
        "id": "TZ2DRBkksw8H",
        "outputId": "80c62bc2-afb2-44d6-8bfd-6f27a188dd9b"
      },
      "execution_count": 16,
      "outputs": [
        {
          "name": "stdout",
          "output_type": "stream",
          "text": [
            "input string for reverse : HELLO\n"
          ]
        },
        {
          "output_type": "execute_result",
          "data": {
            "text/plain": [
              "'OLLEH'"
            ],
            "application/vnd.google.colaboratory.intrinsic+json": {
              "type": "string"
            }
          },
          "metadata": {},
          "execution_count": 16
        }
      ]
    }
  ]
}