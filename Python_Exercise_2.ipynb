{
  "nbformat": 4,
  "nbformat_minor": 0,
  "metadata": {
    "colab": {
      "provenance": [],
      "authorship_tag": "ABX9TyO2iqJoyh8q/CibF6sXRh5v",
      "include_colab_link": true
    },
    "kernelspec": {
      "name": "python3",
      "display_name": "Python 3"
    },
    "language_info": {
      "name": "python"
    }
  },
  "cells": [
    {
      "cell_type": "markdown",
      "metadata": {
        "id": "view-in-github",
        "colab_type": "text"
      },
      "source": [
        "<a href=\"https://colab.research.google.com/github/kratark/kratark/blob/main/Python_Exercise_2.ipynb\" target=\"_parent\"><img src=\"https://colab.research.google.com/assets/colab-badge.svg\" alt=\"Open In Colab\"/></a>"
      ]
    },
    {
      "cell_type": "markdown",
      "source": [
        "2.\tเขียนโปรแกรมเพื่อคำนวณลำดับฟิโบนัคชี (Fibonacci) โดยรับ input\n",
        "เป็นจำนวนของลำดับและแสดงผลตามจำนวนนั้น (เริ่มนับจาก 0) เช่น\n",
        "\n",
        "input: 5\n",
        "\n",
        "output: 0, 1, 1, 2, 3\n",
        "\n",
        "หมายเหตุ\n",
        "\n",
        "(1)  ลำดับฟิโบนัคชีสามารถคำนวณได้จากสูตร Fn = Fn-1 + Fn-2 โดย F0 = 0 และ F1 = 1\n",
        "\n",
        "(2) ข้อนี้มีคะแนนพิเศษสำหรับการเขียนโปรแกรมแบบ recursive function\n"
      ],
      "metadata": {
        "id": "cbhnD82b1QqZ"
      }
    },
    {
      "cell_type": "code",
      "execution_count": 54,
      "metadata": {
        "id": "dr0YEq851LoK"
      },
      "outputs": [],
      "source": [
        "def Fibonacci_to_x(x) :\n",
        "\n",
        "        if x == 0 :\n",
        "            return 0\n",
        "        elif x == 1 :\n",
        "            return 1\n",
        "        else :\n",
        "            return Fibonacci_to_x(x-1) + Fibonacci_to_x(x-2)\n"
      ]
    },
    {
      "cell_type": "code",
      "source": [
        "n = int(input('input number : '))\n",
        "Fibonacci_to_x(n)\n",
        "list = []\n",
        "for i in range(n):\n",
        "  list.append(Fibonacci_to_x(i))\n",
        "\n",
        "print(list)"
      ],
      "metadata": {
        "colab": {
          "base_uri": "https://localhost:8080/"
        },
        "id": "RVB3jiym8yY3",
        "outputId": "8526e13c-c142-4d6c-a7b1-8a08af757dac"
      },
      "execution_count": 65,
      "outputs": [
        {
          "output_type": "stream",
          "name": "stdout",
          "text": [
            "input number : 5\n",
            "[0, 1, 1, 2, 3]\n"
          ]
        }
      ]
    }
  ]
}